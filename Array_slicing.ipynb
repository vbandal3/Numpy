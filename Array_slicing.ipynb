{
 "cells": [
  {
   "cell_type": "code",
   "execution_count": 1,
   "id": "b28120cc",
   "metadata": {},
   "outputs": [
    {
     "name": "stdout",
     "output_type": "stream",
     "text": [
      "Hello python\n"
     ]
    }
   ],
   "source": [
    "print(\"Hello python\")"
   ]
  },
  {
   "cell_type": "markdown",
   "id": "22b5af50",
   "metadata": {},
   "source": [
    "# Array Slicing"
   ]
  },
  {
   "cell_type": "code",
   "execution_count": 6,
   "id": "98b7a3bc",
   "metadata": {},
   "outputs": [
    {
     "name": "stdout",
     "output_type": "stream",
     "text": [
      "[0 1 2 3 4 5 6 7 8 9]\n",
      "length= 10\n",
      "[0 1 2 3 4 5 6 7 8 9]\n",
      "[0 1 2 3 4 5]\n"
     ]
    }
   ],
   "source": [
    "import numpy as np\n",
    "\n",
    "arr=np.array([0,1,2,3,4,5,6,7,8,9])\n",
    "print(arr)\n",
    "l=len(arr)\n",
    "print('length=',len(arr))\n",
    "#slice \n",
    "#array_name[start : end,start included, end excluded]\n",
    "print(arr[0:10])\n",
    "print(arr[0:6])"
   ]
  },
  {
   "cell_type": "code",
   "execution_count": 10,
   "id": "ece9f6f1",
   "metadata": {},
   "outputs": [
    {
     "name": "stdout",
     "output_type": "stream",
     "text": [
      "[0 1 2 3 4]\n",
      "[4 5 6 7 8 9]\n",
      "[0 1 2 3 4 5 6 7 8]\n"
     ]
    }
   ],
   "source": [
    "#positive indices\n",
    "print(arr[0:5])\n",
    "print(arr[4:])\n",
    "print(arr[:9])"
   ]
  },
  {
   "cell_type": "code",
   "execution_count": 18,
   "id": "0f1598de",
   "metadata": {},
   "outputs": [
    {
     "name": "stdout",
     "output_type": "stream",
     "text": [
      "[9]\n",
      "[]\n"
     ]
    }
   ],
   "source": [
    "#negative indices\n",
    "print(arr[-1:])\n",
    "print(arr[-3:-5])"
   ]
  },
  {
   "cell_type": "code",
   "execution_count": 20,
   "id": "50142201",
   "metadata": {},
   "outputs": [
    {
     "name": "stdout",
     "output_type": "stream",
     "text": [
      "[0 2 4 6 8]\n",
      "[0 3 6 9]\n",
      "[0 5]\n"
     ]
    }
   ],
   "source": [
    "#step values in array slicing\n",
    "print(arr[0:10:2])\n",
    "#array_name[start : end:step size]\n",
    "print(arr[0:10:3])\n",
    "print(arr[0:10:5])"
   ]
  },
  {
   "cell_type": "code",
   "execution_count": 46,
   "id": "5e4a99a8",
   "metadata": {},
   "outputs": [
    {
     "name": "stdout",
     "output_type": "stream",
     "text": [
      "[[ 1  2  3  4  5]\n",
      " [ 6  7  8  9 10]]\n",
      "\n",
      "\n",
      "10\n",
      "\n",
      " 2\n",
      "\n",
      " (2, 5)\n",
      "\n",
      "\n",
      "[1 2 3 4 5]\n",
      "\n",
      "\n",
      "[ 6  7  8  9 10]\n",
      "\n",
      "\n",
      "[2 3 4]\n",
      "\n",
      "\n",
      "[ 6  7  8  9 10]\n"
     ]
    }
   ],
   "source": [
    "#slicing 2d array\n",
    "\n",
    "arr1=np.array([[1,2,3,4,5],[6,7,8,9,10]])\n",
    "print(arr1)\n",
    "print(\"\\n\")\n",
    "print(arr1.size)\n",
    "print(\"\\n\" ,arr1.ndim)\n",
    "print(\"\\n\" ,arr1.shape)\n",
    "\n",
    "#slicing\n",
    "# arr[2_d array loc, range of elements]\n",
    "print(\"\\n\")\n",
    "\n",
    "print(arr1[0])\n",
    "\n",
    "print(\"\\n\")\n",
    "\n",
    "print(arr1[1])\n",
    "\n",
    "print(\"\\n\")\n",
    "\n",
    "print(arr1[0,1:4])\n",
    "\n",
    "print(\"\\n\")\n",
    "\n",
    "print(arr1[1,0:5])"
   ]
  },
  {
   "cell_type": "code",
   "execution_count": 53,
   "id": "6cc44552",
   "metadata": {},
   "outputs": [
    {
     "name": "stdout",
     "output_type": "stream",
     "text": [
      "[[ 1  2  3  4  5]\n",
      " [ 6  7  8  9 10]]\n",
      "\n",
      "\n",
      "[[1 2]\n",
      " [6 7]]\n"
     ]
    }
   ],
   "source": [
    "print(arr1)\n",
    "print('\\n')\n",
    "print(arr1[0:2,0:2])"
   ]
  },
  {
   "cell_type": "code",
   "execution_count": 54,
   "id": "8bb745c8",
   "metadata": {},
   "outputs": [
    {
     "name": "stdout",
     "output_type": "stream",
     "text": [
      "[[ 1  2  3  4  5]\n",
      " [10 20 30 40 50]\n",
      " [11 22 33 44 55]]\n",
      "15\n",
      "(3, 5)\n"
     ]
    }
   ],
   "source": [
    "arr = np.array([[1,2,3,4,5],[10,20,30,40,50],[11,22,33,44,55]])\n",
    "print(arr)\n",
    "print(arr.size)\n",
    "print(arr.shape)"
   ]
  },
  {
   "cell_type": "code",
   "execution_count": 55,
   "id": "10d0aa5d",
   "metadata": {},
   "outputs": [
    {
     "name": "stdout",
     "output_type": "stream",
     "text": [
      "[[ 2  3]\n",
      " [20 30]]\n",
      "\n",
      " [[20 30 40]\n",
      " [22 33 44]]\n"
     ]
    }
   ],
   "source": [
    "# 2, 3\n",
    "# 20,30\n",
    "\n",
    "print(arr[0:2,1:3])\n",
    "\n",
    "# 20 30 40\n",
    "# 22 33 44\n",
    "\n",
    "print(\"\\n\",arr[1:3,1:4])"
   ]
  },
  {
   "cell_type": "code",
   "execution_count": null,
   "id": "8bb07b03",
   "metadata": {},
   "outputs": [],
   "source": []
  },
  {
   "cell_type": "code",
   "execution_count": null,
   "id": "930daa79",
   "metadata": {},
   "outputs": [],
   "source": []
  },
  {
   "cell_type": "code",
   "execution_count": 8,
   "id": "927e4228",
   "metadata": {},
   "outputs": [
    {
     "name": "stdout",
     "output_type": "stream",
     "text": [
      "[1 3 5 6 2 8 7 9 4 0]\n",
      "<class 'numpy.ndarray'>\n",
      "[0 1 2 3 4 5 6 7 8 9]\n"
     ]
    }
   ],
   "source": [
    "import numpy as np\n",
    "arr=np.array([1,3,5,6,2,8,7,9,4,0])\n",
    "print(arr)\n",
    "print(type(arr))\n",
    "ar=np.sort(arr)\n",
    "print(ar)"
   ]
  },
  {
   "cell_type": "code",
   "execution_count": 12,
   "id": "3c04ae86",
   "metadata": {},
   "outputs": [
    {
     "name": "stdout",
     "output_type": "stream",
     "text": [
      "[0 1 2 3 4 5 6 7 8 9]\n",
      "[False, False, False, False, True, True, True, True, True, True]\n",
      "[4 5 6 7 8 9]\n"
     ]
    }
   ],
   "source": [
    "print(ar)\n",
    "index=[]\n",
    "for i in ar:\n",
    "    if i>3:\n",
    "        index.append(True)\n",
    "    else:\n",
    "        index.append(False)\n",
    "print(index)\n",
    "newar=ar[index]\n",
    "print(newar)"
   ]
  },
  {
   "cell_type": "code",
   "execution_count": null,
   "id": "ac96c4ea",
   "metadata": {},
   "outputs": [],
   "source": []
  }
 ],
 "metadata": {
  "kernelspec": {
   "display_name": "Python 3 (ipykernel)",
   "language": "python",
   "name": "python3"
  },
  "language_info": {
   "codemirror_mode": {
    "name": "ipython",
    "version": 3
   },
   "file_extension": ".py",
   "mimetype": "text/x-python",
   "name": "python",
   "nbconvert_exporter": "python",
   "pygments_lexer": "ipython3",
   "version": "3.9.7"
  }
 },
 "nbformat": 4,
 "nbformat_minor": 5
}

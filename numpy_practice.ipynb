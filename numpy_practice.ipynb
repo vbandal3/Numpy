{
 "cells": [
  {
   "cell_type": "raw",
   "id": "31f57465",
   "metadata": {},
   "source": [
    "\n",
    "Numerical Python End to End in Detail\n",
    "Numpy:\n",
    "\n",
    "Numpy- is a Numerical Python\n",
    "\n",
    "It is developed by Travis Oliphant in 2005\n",
    "\n",
    "Numpy has functions to work on linear algebra, fourier transform, and matrices\n",
    "\n",
    "Its basically used to work with array, It can work with multidimentional Arrays\n",
    "Why:\n",
    "\n",
    "Numpy is built using python, and most of the part which requires fatser execution is developed using c or c++,So it is very fast in execution.\n",
    "\n",
    "Numpy arrays are called as ndarray\n",
    "\n",
    "Numpy has 50x speed as compared to python list\n",
    "\n",
    "Numpy provides lots of functions which can be performed on large data\n",
    "\n",
    "Numpy gives faster response as compared to list as it stores numpy arrays at one continuous location\n",
    "\n",
    "Numpy codes are available at: https://github.com/numpy/numpy\n"
   ]
  },
  {
   "cell_type": "code",
   "execution_count": 20,
   "id": "c6eecc89",
   "metadata": {},
   "outputs": [
    {
     "name": "stdout",
     "output_type": "stream",
     "text": [
      "[1 2 3 4]\n",
      "<class 'numpy.ndarray'>\n",
      "Dimension of array : 1\n",
      "Access the elements in array\n",
      "1\n",
      "2\n",
      "3\n",
      "4\n"
     ]
    }
   ],
   "source": [
    "import numpy as np\n",
    "\n",
    "l=[1,2,3,4]\n",
    "arr=np.array(l)\n",
    "print(arr)\n",
    "print(type(arr))\n",
    "print(\"Dimension of array :\",arr.ndim)\n",
    "print(\"Access the elements in array\")\n",
    "print(arr[0])\n",
    "print(arr[1])\n",
    "print(arr[2])\n",
    "print(arr[3])"
   ]
  },
  {
   "cell_type": "code",
   "execution_count": 12,
   "id": "d2af7904",
   "metadata": {
    "scrolled": true
   },
   "outputs": [
    {
     "name": "stdout",
     "output_type": "stream",
     "text": [
      "[[20 50 60 80]\n",
      " [90  8  7  5]]\n",
      "<class 'numpy.ndarray'>\n",
      "\n",
      "Dimensions of ar1 2\n",
      "\n",
      "Access first element in 2D array\n",
      "[20 50 60 80]\n",
      "<class 'NoneType'>\n",
      "\n",
      "Access first element in first dimension in 2D array ar1[0][0]\n",
      "20\n",
      "\n",
      "Another method of accessing ar1[0,0]\n",
      "20\n"
     ]
    }
   ],
   "source": [
    "l1=[[20,50,60,80],[90,8,7,5]]\n",
    "ar1=np.array(l1)\n",
    "print(ar1)\n",
    "print(type(ar1))\n",
    "print(\"\\nDimensions of ar1\", ar1.ndim)\n",
    "a=print(\"\\nAccess first element in 2D array\")\n",
    "print(ar1[0])\n",
    "print(type(a))\n",
    "print(\"\\nAccess first element in first dimension in 2D array ar1[0][0]\")\n",
    "print(ar1[0][0])\n",
    "print(\"\\nAnother method of accessing ar1[0,0]\")\n",
    "print(ar1[0,0])"
   ]
  },
  {
   "cell_type": "code",
   "execution_count": 33,
   "id": "2471a3f6",
   "metadata": {},
   "outputs": [
    {
     "name": "stdout",
     "output_type": "stream",
     "text": [
      "[[[100, 200, 300], [600, 500, 800], [900, 685, 300]]]\n",
      "<class 'list'>\n",
      "\n",
      "\n",
      "\n",
      "\n",
      "<class 'numpy.ndarray'>\n",
      "\n",
      "\n",
      "[[[100 200 300]\n",
      "  [600 500 800]\n",
      "  [900 685 300]]]\n",
      "\n",
      " Dimension of ar2= 3\n",
      "\n",
      "Access first element in first dimension in 3D array ar2[0][0]\n",
      "[100 200 300]\n",
      "\n",
      "Another method of accessing ar2[0,0,0]\n",
      "100\n",
      "\n",
      "\n",
      "500\n",
      "300\n",
      "800\n",
      "600\n"
     ]
    }
   ],
   "source": [
    "L2=[[[100,200,300],[600,500,800],[900,685,300]]]\n",
    "print(L2)\n",
    "print(type(L2))\n",
    "print('\\n')\n",
    "ar2=np.array(L2)\n",
    "print('\\n')\n",
    "print(type(ar2))\n",
    "print('\\n')\n",
    "print(ar2)\n",
    "print(\"\\n Dimension of ar2=\",ar2.ndim)\n",
    "\n",
    "print(\"\\nAccess first element in first dimension in 3D array ar2[0][0]\")\n",
    "print(ar2[0][0])\n",
    "print(\"\\nAnother method of accessing ar2[0,0,0]\")\n",
    "print(ar2[0,0,0])\n",
    "print('\\n')\n",
    "print(ar2[0,1,1])\n",
    "print(ar2[0][0][2])\n",
    "print(ar2[0][1][2])\n",
    "print(ar2[0][1][0])"
   ]
  },
  {
   "cell_type": "code",
   "execution_count": 30,
   "id": "1df09006",
   "metadata": {},
   "outputs": [
    {
     "name": "stdout",
     "output_type": "stream",
     "text": [
      "[[[[[1 2 3 4 5]]]]]\n",
      "number of dimensions : 5\n"
     ]
    }
   ],
   "source": [
    "arr = np.array([1, 2, 3, 4,5], ndmin=5)\n",
    "\n",
    "print(arr)\n",
    "print('number of dimensions :', arr.ndim) "
   ]
  },
  {
   "cell_type": "code",
   "execution_count": 39,
   "id": "704adbc8",
   "metadata": {},
   "outputs": [
    {
     "name": "stdout",
     "output_type": "stream",
     "text": [
      "[12 15 25 60]\n",
      "Dimension of array arr1 1\n",
      "[[[[[12 15 25 60]]]]]\n",
      "Dimension of array arr2 5\n"
     ]
    }
   ],
   "source": [
    "arr1=np.array([12,15,25,60],ndmin=1)\n",
    "print(arr1)\n",
    "print(\"Dimension of array arr1\",arr1.ndim)\n",
    "arr2=np.array(arr1,ndmin=5)\n",
    "print(arr2)\n",
    "print(\"Dimension of array arr2\",arr2.ndim)"
   ]
  },
  {
   "cell_type": "code",
   "execution_count": null,
   "id": "5f688ba0",
   "metadata": {},
   "outputs": [],
   "source": []
  }
 ],
 "metadata": {
  "kernelspec": {
   "display_name": "Python 3 (ipykernel)",
   "language": "python",
   "name": "python3"
  },
  "language_info": {
   "codemirror_mode": {
    "name": "ipython",
    "version": 3
   },
   "file_extension": ".py",
   "mimetype": "text/x-python",
   "name": "python",
   "nbconvert_exporter": "python",
   "pygments_lexer": "ipython3",
   "version": "3.8.10"
  }
 },
 "nbformat": 4,
 "nbformat_minor": 5
}
